{
 "cells": [
  {
   "cell_type": "code",
   "execution_count": 1,
   "id": "f7dd3022",
   "metadata": {},
   "outputs": [],
   "source": [
    "import matplotlib.pyplot as plt\n",
    "import numpy as np\n",
    "import scipy\n",
    "import sklearn\n",
    "\n",
    "from functools import partial\n",
    "from sklearn import datasets"
   ]
  },
  {
   "cell_type": "code",
   "execution_count": 2,
   "id": "5c06d4cb",
   "metadata": {},
   "outputs": [],
   "source": [
    "iris = datasets.load_iris(as_frame=True)"
   ]
  },
  {
   "cell_type": "code",
   "execution_count": 3,
   "id": "8c7da9a4",
   "metadata": {},
   "outputs": [
    {
     "data": {
      "text/html": [
       "<div>\n",
       "<style scoped>\n",
       "    .dataframe tbody tr th:only-of-type {\n",
       "        vertical-align: middle;\n",
       "    }\n",
       "\n",
       "    .dataframe tbody tr th {\n",
       "        vertical-align: top;\n",
       "    }\n",
       "\n",
       "    .dataframe thead th {\n",
       "        text-align: right;\n",
       "    }\n",
       "</style>\n",
       "<table border=\"1\" class=\"dataframe\">\n",
       "  <thead>\n",
       "    <tr style=\"text-align: right;\">\n",
       "      <th></th>\n",
       "      <th>sepal length (cm)</th>\n",
       "      <th>sepal width (cm)</th>\n",
       "      <th>petal length (cm)</th>\n",
       "      <th>petal width (cm)</th>\n",
       "    </tr>\n",
       "  </thead>\n",
       "  <tbody>\n",
       "    <tr>\n",
       "      <th>0</th>\n",
       "      <td>5.1</td>\n",
       "      <td>3.5</td>\n",
       "      <td>1.4</td>\n",
       "      <td>0.2</td>\n",
       "    </tr>\n",
       "    <tr>\n",
       "      <th>1</th>\n",
       "      <td>4.9</td>\n",
       "      <td>3.0</td>\n",
       "      <td>1.4</td>\n",
       "      <td>0.2</td>\n",
       "    </tr>\n",
       "    <tr>\n",
       "      <th>2</th>\n",
       "      <td>4.7</td>\n",
       "      <td>3.2</td>\n",
       "      <td>1.3</td>\n",
       "      <td>0.2</td>\n",
       "    </tr>\n",
       "    <tr>\n",
       "      <th>3</th>\n",
       "      <td>4.6</td>\n",
       "      <td>3.1</td>\n",
       "      <td>1.5</td>\n",
       "      <td>0.2</td>\n",
       "    </tr>\n",
       "    <tr>\n",
       "      <th>4</th>\n",
       "      <td>5.0</td>\n",
       "      <td>3.6</td>\n",
       "      <td>1.4</td>\n",
       "      <td>0.2</td>\n",
       "    </tr>\n",
       "  </tbody>\n",
       "</table>\n",
       "</div>"
      ],
      "text/plain": [
       "   sepal length (cm)  sepal width (cm)  petal length (cm)  petal width (cm)\n",
       "0                5.1               3.5                1.4               0.2\n",
       "1                4.9               3.0                1.4               0.2\n",
       "2                4.7               3.2                1.3               0.2\n",
       "3                4.6               3.1                1.5               0.2\n",
       "4                5.0               3.6                1.4               0.2"
      ]
     },
     "execution_count": 3,
     "metadata": {},
     "output_type": "execute_result"
    }
   ],
   "source": [
    "iris[\"data\"].head()"
   ]
  },
  {
   "cell_type": "code",
   "execution_count": 4,
   "id": "24b7116b",
   "metadata": {},
   "outputs": [],
   "source": [
    "sepal_width = iris.data[\"sepal width (cm)\"].values"
   ]
  },
  {
   "cell_type": "code",
   "execution_count": 23,
   "id": "7ba8fd6f",
   "metadata": {},
   "outputs": [],
   "source": [
    "distribution = \"johnsonsu\"\n",
    "match distribution.lower():\n",
    "    case \"johnsonsu\":\n",
    "        dist = scipy.stats.johnsonsu\n",
    "        cons = [\n",
    "            {'type': 'ineq', 'fun': lambda x: x[1] + 1e-5},\n",
    "            {'type': 'ineq', 'fun': lambda x: x[3] + 1e-5},\n",
    "        ]\n",
    "    case \"weibull\":\n",
    "        dist = scipy.stats.weibull_min\n",
    "        cons = []\n",
    "    case _:\n",
    "        dist = scipy.stats.norm\n",
    "        cons = []"
   ]
  },
  {
   "cell_type": "code",
   "execution_count": 24,
   "id": "fe4b36f1",
   "metadata": {},
   "outputs": [],
   "source": [
    "def ll(data, params):\n",
    "    return np.sum(dist.logpdf(data, *params))\n",
    "\n",
    "def nll(data, params):\n",
    "    return -1 * ll(data, params)"
   ]
  },
  {
   "cell_type": "code",
   "execution_count": 25,
   "id": "71e3ddd0",
   "metadata": {},
   "outputs": [
    {
     "data": {
      "text/plain": [
       " message: Optimization terminated successfully\n",
       " success: True\n",
       "  status: 0\n",
       "     fun: 86.56001272002162\n",
       "       x: [-2.995e+00  5.097e+00  1.891e+00  1.840e+00]\n",
       "     nit: 30\n",
       "     jac: [ 7.774e-03  1.939e-03 -6.378e-03  1.268e-03]\n",
       "    nfev: 169\n",
       "    njev: 30"
      ]
     },
     "execution_count": 25,
     "metadata": {},
     "output_type": "execute_result"
    }
   ],
   "source": [
    "sol = scipy.optimize.minimize(partial(nll, sepal_width), x0=[0, 1, 0, 1], method=\"SLSQP\", constraints=cons)\n",
    "sol"
   ]
  },
  {
   "cell_type": "code",
   "execution_count": 26,
   "id": "f91ec1ee",
   "metadata": {},
   "outputs": [
    {
     "name": "stdout",
     "output_type": "stream",
     "text": [
      "alpha effective: 0.020000000000000018\n",
      "alpha effective: 0.010000000000000009\n"
     ]
    },
    {
     "data": {
      "text/plain": [
       "(np.float64(-89.26595993554879), np.float64(-89.87746102053222))"
      ]
     },
     "execution_count": 26,
     "metadata": {},
     "output_type": "execute_result"
    }
   ],
   "source": [
    "def calc_ll_target(conf, data, params, sided=1):\n",
    "    ll_mle = ll(data, params)\n",
    "    alpha_eff = 2 * (1 - conf) / sided\n",
    "    print(\"alpha effective:\", alpha_eff)\n",
    "    chi2val = scipy.stats.chi2.ppf(1 - alpha_eff, df=1)\n",
    "    ll_target = ll_mle - chi2val / 2\n",
    "    return ll_target\n",
    "\n",
    "\n",
    "ll_target = calc_ll_target(0.99, sepal_width, sol.x, sided=1)\n",
    "ll_target2 = calc_ll_target(0.99, sepal_width, sol.x, sided=2)\n",
    "ll_target, ll_target2"
   ]
  },
  {
   "cell_type": "code",
   "execution_count": 27,
   "id": "0da86956",
   "metadata": {},
   "outputs": [],
   "source": [
    "def ll_target_cons(data, ll_target, params):\n",
    "    return ll_target - ll(data, params)\n",
    "\n",
    "\n",
    "def obj_upper(coverage, params):\n",
    "    return -1 * dist.ppf(coverage, *params)\n",
    "\n",
    "\n",
    "def obj_lower(coverage, params):\n",
    "    return dist.ppf(coverage, *params)\n",
    "\n",
    "\n",
    "def obj_double(lower_coverage, upper_coverage, params):\n",
    "    upper_quantile = dist.ppf(upper_coverage, *params)\n",
    "    lower_quantile = dist.ppf(lower_coverage, *params)\n",
    "    return lower_quantile - upper_quantile  # Minimize this <-> maximize interval width, which is upper_quantile - lower_quantile"
   ]
  },
  {
   "cell_type": "code",
   "execution_count": 28,
   "id": "fd6418cf",
   "metadata": {},
   "outputs": [],
   "source": [
    "# 99conf/75converage upper TL\n",
    "othercons = [{\"type\": \"eq\", \"fun\": partial(ll_target_cons, sepal_width, ll_target)}]"
   ]
  },
  {
   "cell_type": "code",
   "execution_count": 29,
   "id": "027ba107",
   "metadata": {},
   "outputs": [
    {
     "data": {
      "text/plain": [
       "( message: Optimization terminated successfully\n",
       "  success: True\n",
       "   status: 0\n",
       "      fun: -3.4400072193481424\n",
       "        x: [-8.707e+00  8.317e+00  6.712e-02  2.439e+00]\n",
       "      nit: 218\n",
       "      jac: [ 5.005e-01  5.646e-01 -1.000e+00 -1.383e+00]\n",
       "     nfev: 1508\n",
       "     njev: 218,\n",
       " np.float64(3.4400072193481424))"
      ]
     },
     "execution_count": 29,
     "metadata": {},
     "output_type": "execute_result"
    }
   ],
   "source": [
    "sol_upper = scipy.optimize.minimize(partial(obj_upper, 0.75), x0=sol.x, method=\"SLSQP\", constraints=othercons+cons, options={\"maxiter\": 2500})\n",
    "sol_upper, dist.ppf(0.75, *sol_upper.x)"
   ]
  },
  {
   "cell_type": "code",
   "execution_count": 30,
   "id": "570b28e3",
   "metadata": {},
   "outputs": [],
   "source": [
    "assert np.isclose(dist.ppf(0.75, *sol_upper.x), 3.4400072193481424)"
   ]
  },
  {
   "cell_type": "code",
   "execution_count": 31,
   "id": "7f4b537f",
   "metadata": {},
   "outputs": [
    {
     "data": {
      "text/plain": [
       "( message: Optimization terminated successfully\n",
       "  success: True\n",
       "   status: 0\n",
       "      fun: 2.6649803421480187\n",
       "        x: [-3.165e+01  7.912e+00 -6.302e-01  1.315e-01]\n",
       "      nit: 576\n",
       "      jac: [-4.168e-01 -1.632e+00  1.000e+00  2.507e+01]\n",
       "     nfev: 3351\n",
       "     njev: 576,\n",
       " np.float64(2.6649803421480187))"
      ]
     },
     "execution_count": 31,
     "metadata": {},
     "output_type": "execute_result"
    }
   ],
   "source": [
    "sol_lower = scipy.optimize.minimize(partial(obj_lower, 0.25), x0=sol.x, method=\"SLSQP\", constraints=othercons+cons, options={\"maxiter\": 2500})\n",
    "sol_lower, dist.ppf(0.25, *sol_lower.x)"
   ]
  },
  {
   "cell_type": "code",
   "execution_count": 32,
   "id": "9715843d",
   "metadata": {},
   "outputs": [],
   "source": [
    "assert np.isclose(dist.ppf(0.25, *sol_lower.x), 2.6649803421480187)"
   ]
  },
  {
   "cell_type": "code",
   "execution_count": 33,
   "id": "24930f9f",
   "metadata": {},
   "outputs": [],
   "source": [
    "othercons2 = [{\"type\": \"eq\", \"fun\": partial(ll_target_cons, sepal_width, ll_target2)}]\n",
    "sol_double = scipy.optimize.minimize(partial(obj_double, 0.25, 0.75), x0=sol.x, constraints=othercons2+cons, options={\"maxiter\": 2500})"
   ]
  },
  {
   "cell_type": "code",
   "execution_count": 34,
   "id": "5f66b8ea",
   "metadata": {},
   "outputs": [
    {
     "data": {
      "text/plain": [
       " message: Optimization terminated successfully\n",
       " success: True\n",
       "  status: 0\n",
       "     fun: -0.6818779353652933\n",
       "       x: [-2.014e+01  7.370e+00 -6.388e-01  4.822e-01]\n",
       "     nit: 333\n",
       "     jac: [ 9.174e-02  3.434e-01  0.000e+00 -1.414e+00]\n",
       "    nfev: 2041\n",
       "    njev: 333"
      ]
     },
     "execution_count": 34,
     "metadata": {},
     "output_type": "execute_result"
    }
   ],
   "source": [
    "sol_double"
   ]
  },
  {
   "cell_type": "code",
   "execution_count": 35,
   "id": "6c9b4075",
   "metadata": {},
   "outputs": [
    {
     "data": {
      "text/plain": [
       "(np.float64(2.7247188389753085), np.float64(3.406596774340602))"
      ]
     },
     "execution_count": 35,
     "metadata": {},
     "output_type": "execute_result"
    }
   ],
   "source": [
    "dist.ppf(0.25, *sol_double.x), dist.ppf(0.75, *sol_double.x)"
   ]
  },
  {
   "cell_type": "code",
   "execution_count": 36,
   "id": "17fd138a",
   "metadata": {},
   "outputs": [
    {
     "data": {
      "text/plain": [
       "<matplotlib.legend.Legend at 0x7f50c7cedb80>"
      ]
     },
     "execution_count": 36,
     "metadata": {},
     "output_type": "execute_result"
    },
    {
     "data": {
      "image/png": "[encoded data removed]",
      "text/plain": [
       "<Figure size 1000x500 with 2 Axes>"
      ]
     },
     "metadata": {},
     "output_type": "display_data"
    }
   ],
   "source": [
    "fig, ax1 = plt.subplots(figsize=(10,5))\n",
    "ax2 = ax1.twinx()\n",
    "\n",
    "ax1.hist(sepal_width, alpha=0.5)\n",
    "\n",
    "xarr = np.linspace(sepal_width.min(), sepal_width.max(), 101)\n",
    "ax2.plot(xarr, dist.pdf(xarr, *sol.x), color=\"black\")\n",
    "ax2.axvline(dist.ppf(0.75, *sol.x), color=\"black\", linestyle=\"--\", label=\"IQR\")\n",
    "ax2.axvline(dist.ppf(0.25, *sol.x), color=\"black\", linestyle=\"-.\", label=\"IQR\")\n",
    "\n",
    "ax2.axvline(dist.ppf(0.75, *sol_upper.x), color=\"red\", label=\"1-sided upper T.L.\")\n",
    "ax2.axvline(dist.ppf(0.25, *sol_lower.x), color=\"orange\", label=\"1-sided lower T.L.\")\n",
    "\n",
    "ax2.axvline(dist.ppf(0.75, *sol_double.x), color=\"green\", label=\"2-sided T.L.\")\n",
    "ax2.axvline(dist.ppf(0.25, *sol_double.x), color=\"green\")\n",
    "\n",
    "plt.legend()"
   ]
  },
  {
   "cell_type": "code",
   "execution_count": null,
   "id": "b859ec0e",
   "metadata": {},
   "outputs": [],
   "source": []
  }
 ],
 "metadata": {
  "kernelspec": {
   "display_name": "venv",
   "language": "python",
   "name": "python3"
  },
  "language_info": {
   "codemirror_mode": {
    "name": "ipython",
    "version": 3
   },
   "file_extension": ".py",
   "mimetype": "text/x-python",
   "name": "python",
   "nbconvert_exporter": "python",
   "pygments_lexer": "ipython3",
   "version": "3.12.3"
  }
 },
 "nbformat": 4,
 "nbformat_minor": 5
}
