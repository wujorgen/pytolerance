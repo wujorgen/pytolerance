{
 "cells": [
  {
   "cell_type": "code",
   "execution_count": 1,
   "id": "f74fa8aa",
   "metadata": {},
   "outputs": [],
   "source": [
    "import matplotlib.pyplot as plt\n",
    "import numpy as np\n",
    "import scipy\n",
    "import sklearn\n",
    "\n",
    "from functools import partial\n",
    "from sklearn import datasets"
   ]
  },
  {
   "cell_type": "code",
   "execution_count": 2,
   "id": "45468ef1",
   "metadata": {},
   "outputs": [],
   "source": [
    "iris = datasets.load_iris(as_frame=True)"
   ]
  },
  {
   "cell_type": "code",
   "execution_count": 3,
   "id": "6720d0c7",
   "metadata": {},
   "outputs": [],
   "source": [
    "sepal_width = iris.data[\"sepal width (cm)\"].values"
   ]
  },
  {
   "cell_type": "code",
   "execution_count": 4,
   "id": "2fa24513",
   "metadata": {},
   "outputs": [],
   "source": [
    "def ll(data, params):\n",
    "    return np.sum(scipy.stats.norm.logpdf(data, *params))\n",
    "\n",
    "def nll(data, params):\n",
    "    return -1 * ll(data, params)"
   ]
  },
  {
   "cell_type": "code",
   "execution_count": 5,
   "id": "ff2e5ae5",
   "metadata": {},
   "outputs": [
    {
     "data": {
      "text/plain": [
       " message: Optimization terminated successfully\n",
       " success: True\n",
       "  status: 0\n",
       "     fun: 87.77614099590977\n",
       "       x: [ 3.057e+00  4.344e-01]\n",
       "     nit: 16\n",
       "     jac: [-2.404e-02 -1.289e-02]\n",
       "    nfev: 65\n",
       "    njev: 16"
      ]
     },
     "execution_count": 5,
     "metadata": {},
     "output_type": "execute_result"
    }
   ],
   "source": [
    "sol = scipy.optimize.minimize(partial(nll, sepal_width), x0=[0, 1], method=\"SLSQP\")\n",
    "sol"
   ]
  },
  {
   "cell_type": "code",
   "execution_count": 19,
   "id": "1b7a7f74",
   "metadata": {},
   "outputs": [
    {
     "name": "stdout",
     "output_type": "stream",
     "text": [
      "alpha effective: 0.020000000000000018\n",
      "alpha effective: 0.010000000000000009\n"
     ]
    },
    {
     "data": {
      "text/plain": [
       "(np.float64(-87.77614099590977),\n",
       " np.float64(-90.48208821143695),\n",
       " np.float64(-91.09358929642038))"
      ]
     },
     "execution_count": 19,
     "metadata": {},
     "output_type": "execute_result"
    }
   ],
   "source": [
    "# ll target for upper 99/75\n",
    "conf = 0.99\n",
    "cover1_up = 0.75\n",
    "cover1_lo = 0.25\n",
    "\n",
    "def calc_ll_target(conf, data, params, sided=1):\n",
    "    ll_mle = ll(data, params)\n",
    "    alpha_eff = 2 * (1 - conf) / sided\n",
    "    print(\"alpha effective:\", alpha_eff)\n",
    "    chi2val = scipy.stats.chi2.ppf(1 - alpha_eff, df=1)\n",
    "    ll_target = ll_mle - chi2val / 2\n",
    "    return ll_target\n",
    "\n",
    "ll_target = calc_ll_target(conf, sepal_width, sol.x, sided=1)\n",
    "ll_target2 = calc_ll_target(conf, sepal_width, sol.x, sided=2)\n",
    "ll(sepal_width, sol.x), ll_target, ll_target2"
   ]
  },
  {
   "cell_type": "code",
   "execution_count": 20,
   "id": "0dc26e88",
   "metadata": {},
   "outputs": [],
   "source": [
    "def ll_target_cons(data, ll_target, params):\n",
    "    return ll_target - ll(data, params)\n",
    "\n",
    "\n",
    "def obj_upper(coverage, params):\n",
    "    return -1 * scipy.stats.norm.ppf(coverage, *params)\n",
    "\n",
    "\n",
    "def obj_lower(coverage, params):\n",
    "    return scipy.stats.norm.ppf(coverage, *params)\n",
    "\n",
    "\n",
    "def obj_double(lower_coverage, upper_coverage, params):\n",
    "    upper_quantile = scipy.stats.norm.ppf(upper_coverage, *params)\n",
    "    lower_quantile = scipy.stats.norm.ppf(lower_coverage, *params)\n",
    "    return lower_quantile - upper_quantile  # Minimize this <-> maximize interval width, which is upper_quantile - lower_quantile"
   ]
  },
  {
   "cell_type": "code",
   "execution_count": 21,
   "id": "7b1ec6ca",
   "metadata": {},
   "outputs": [],
   "source": [
    "tl1cons = [{\"type\": \"eq\", \"fun\": partial(ll_target_cons, sepal_width, ll_target)}]\n",
    "tl2cons = [{\"type\": \"eq\", \"fun\": partial(ll_target_cons, sepal_width, ll_target2)}]"
   ]
  },
  {
   "cell_type": "code",
   "execution_count": 30,
   "id": "d1c4d896",
   "metadata": {},
   "outputs": [
    {
     "data": {
      "text/plain": [
       "( message: Optimization terminated successfully\n",
       "  success: True\n",
       "   status: 0\n",
       "      fun: -3.447767195631491\n",
       "        x: [ 3.133e+00  4.671e-01]\n",
       "      nit: 24\n",
       "      jac: [-1.000e+00 -6.745e-01]\n",
       "     nfev: 130\n",
       "     njev: 24,\n",
       " np.float64(3.447767195631491))"
      ]
     },
     "execution_count": 30,
     "metadata": {},
     "output_type": "execute_result"
    }
   ],
   "source": [
    "sol_upper = scipy.optimize.minimize(partial(obj_upper, cover1_up), x0=sol.x, method=\"SLSQP\", constraints=tl1cons, options={\"maxiter\": 2500})\n",
    "sol_upper, scipy.stats.norm.ppf(cover1_up, *sol_upper.x)"
   ]
  },
  {
   "cell_type": "code",
   "execution_count": 51,
   "id": "72b7aa27",
   "metadata": {},
   "outputs": [
    {
     "data": {
      "text/plain": [
       "( message: Optimization terminated successfully\n",
       "  success: True\n",
       "   status: 0\n",
       "      fun: 2.666899463558954\n",
       "        x: [ 2.982e+00  4.671e-01]\n",
       "      nit: 7\n",
       "      jac: [ 1.000e+00 -6.745e-01]\n",
       "     nfev: 29\n",
       "     njev: 7,\n",
       " np.float64(2.666899463558954))"
      ]
     },
     "execution_count": 51,
     "metadata": {},
     "output_type": "execute_result"
    }
   ],
   "source": [
    "sol_lower = scipy.optimize.minimize(partial(obj_lower, cover1_lo), x0=sol.x, method=\"SLSQP\", constraints=tl1cons, options={\"maxiter\": 2500})\n",
    "sol_lower, scipy.stats.norm.ppf(cover1_lo, *sol_lower.x)"
   ]
  },
  {
   "cell_type": "code",
   "execution_count": 40,
   "id": "59255eff",
   "metadata": {},
   "outputs": [
    {
     "data": {
      "text/plain": [
       " message: Optimization terminated successfully\n",
       " success: True\n",
       "  status: 0\n",
       "     fun: -0.6852661351057296\n",
       "       x: [ 3.057e+00  5.080e-01]\n",
       "     nit: 22\n",
       "     jac: [ 0.000e+00 -1.349e+00]\n",
       "    nfev: 105\n",
       "    njev: 22"
      ]
     },
     "execution_count": 40,
     "metadata": {},
     "output_type": "execute_result"
    }
   ],
   "source": [
    "sol_double = scipy.optimize.minimize(partial(obj_double, cover1_lo, cover1_up), x0=sol.x, constraints=tl2cons, options={\"maxiter\": 2500})\n",
    "sol_double"
   ]
  },
  {
   "cell_type": "code",
   "execution_count": 50,
   "id": "4166903b",
   "metadata": {},
   "outputs": [
    {
     "data": {
      "text/plain": [
       "(np.float64(2.6660308477310295), np.float64(3.448575328466582))"
      ]
     },
     "execution_count": 50,
     "metadata": {},
     "output_type": "execute_result"
    }
   ],
   "source": [
    "# analytic solutions\n",
    "n = sepal_width.size\n",
    "non_centrality = np.sqrt(n) * scipy.stats.norm.ppf(cover1_up)\n",
    "k = (1 / np.sqrt(n)) * scipy.stats.nct.ppf(conf, n-1, non_centrality)\n",
    "sol.x[0] - k * sol.x[1], sol.x[0] + k * sol.x[1]"
   ]
  },
  {
   "cell_type": "code",
   "execution_count": null,
   "id": "3cb7c0e3",
   "metadata": {},
   "outputs": [],
   "source": []
  },
  {
   "cell_type": "code",
   "execution_count": 52,
   "id": "166b0bec",
   "metadata": {},
   "outputs": [
    {
     "data": {
      "text/plain": [
       "<matplotlib.lines.Line2D at 0x7f288f911040>"
      ]
     },
     "execution_count": 52,
     "metadata": {},
     "output_type": "execute_result"
    },
    {
     "data": {
      "image/png": "[encoded data removed]",
      "text/plain": [
       "<Figure size 900x400 with 2 Axes>"
      ]
     },
     "metadata": {},
     "output_type": "display_data"
    }
   ],
   "source": [
    "fig, ax1 = plt.subplots(figsize=(9,4))\n",
    "ax2 = ax1.twinx()\n",
    "\n",
    "xarr = np.linspace(sepal_width.min(), sepal_width.max(), 101)\n",
    "\n",
    "ax1.hist(sepal_width, alpha=0.5)\n",
    "\n",
    "ax2.plot(xarr, scipy.stats.norm.pdf(xarr, *sol.x))\n",
    "ax2.axvline(scipy.stats.norm.ppf(cover1_up, *sol.x), linestyle=\"--\")\n",
    "ax2.axvline(scipy.stats.norm.ppf(cover1_lo, *sol.x), linestyle=\"--\")\n",
    "\n",
    "ax2.axvline(scipy.stats.norm.ppf(cover1_up, *sol_upper.x), linestyle=\"--\", color=\"red\")\n",
    "ax2.axvline(scipy.stats.norm.ppf(cover1_lo, *sol_lower.x), linestyle=\"--\", color=\"red\")\n",
    "\n",
    "ax2.axvline(scipy.stats.norm.ppf(cover1_up, *sol_double.x), linestyle=\"--\", color=\"orange\")\n",
    "ax2.axvline(scipy.stats.norm.ppf(cover1_lo, *sol_double.x), linestyle=\"--\", color=\"orange\")"
   ]
  }
 ],
 "metadata": {
  "kernelspec": {
   "display_name": "venv",
   "language": "python",
   "name": "python3"
  },
  "language_info": {
   "codemirror_mode": {
    "name": "ipython",
    "version": 3
   },
   "file_extension": ".py",
   "mimetype": "text/x-python",
   "name": "python",
   "nbconvert_exporter": "python",
   "pygments_lexer": "ipython3",
   "version": "3.12.3"
  }
 },
 "nbformat": 4,
 "nbformat_minor": 5
}
